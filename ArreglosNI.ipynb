{
  "nbformat": 4,
  "nbformat_minor": 0,
  "metadata": {
    "colab": {
      "provenance": [],
      "authorship_tag": "ABX9TyNr5G4n0BhLDecHn5WIxbhF",
      "include_colab_link": true
    },
    "kernelspec": {
      "name": "python3",
      "display_name": "Python 3"
    },
    "language_info": {
      "name": "python"
    }
  },
  "cells": [
    {
      "cell_type": "markdown",
      "metadata": {
        "id": "view-in-github",
        "colab_type": "text"
      },
      "source": [
        "<a href=\"https://colab.research.google.com/github/DiegoNL04/24590589-Poo/blob/main/ArreglosNI.ipynb\" target=\"_parent\"><img src=\"https://colab.research.google.com/assets/colab-badge.svg\" alt=\"Open In Colab\"/></a>"
      ]
    },
    {
      "cell_type": "code",
      "execution_count": 1,
      "metadata": {
        "colab": {
          "base_uri": "https://localhost:8080/"
        },
        "id": "NiWOS2X-TFik",
        "outputId": "5c651ee2-3d6d-495b-c7d1-b4e8f31cdabf"
      },
      "outputs": [
        {
          "output_type": "stream",
          "name": "stdout",
          "text": [
            "Ingrese los datos de la persona\n",
            "Nombre: Diego Narvaez Lara\n",
            "Identificación: 24590589\n",
            "Desea ingresar otro dato? 0=si, 1=no: 1\n",
            "*************************************************************************\n",
            "\n",
            "Mostrando los datos de las personas.....\n",
            "\n",
            "Nombre: Diego Narvaez Lara\n",
            "Identificación: 24590589\n"
          ]
        }
      ],
      "source": [
        "nombres = []\n",
        "identificaciones = []\n",
        "tamaño=0\n",
        "n=0\n",
        "while n==0:\n",
        "    print(\"Ingrese los datos de la persona\")\n",
        "    nombre = input(\"Nombre: \")\n",
        "    identificación = input(\"Identificación: \")\n",
        "    nombres.append(nombre)\n",
        "    identificaciones.append(identificación)\n",
        "    tamaño+=1\n",
        "    n=int(input(\"Desea ingresar otro dato? 0=si, 1=no: \"))\n",
        "\n",
        "\n",
        "print(\"*************************************************************************\")\n",
        "print(\"\\nMostrando los datos de las personas.....\")\n",
        "for i in range(0,tamaño):\n",
        "    print(\"\\nNombre:\", nombres[i])\n",
        "    print(\"Identificación:\", identificaciones[i])"
      ]
    }
  ]
}