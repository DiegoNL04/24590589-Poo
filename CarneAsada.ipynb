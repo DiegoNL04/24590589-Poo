{
  "nbformat": 4,
  "nbformat_minor": 0,
  "metadata": {
    "colab": {
      "provenance": [],
      "authorship_tag": "ABX9TyNHeWT21pZVxpnhrJ4+2VXd",
      "include_colab_link": true
    },
    "kernelspec": {
      "name": "python3",
      "display_name": "Python 3"
    },
    "language_info": {
      "name": "python"
    }
  },
  "cells": [
    {
      "cell_type": "markdown",
      "metadata": {
        "id": "view-in-github",
        "colab_type": "text"
      },
      "source": [
        "<a href=\"https://colab.research.google.com/github/DiegoNL04/24590589-Poo/blob/main/CarneAsada.ipynb\" target=\"_parent\"><img src=\"https://colab.research.google.com/assets/colab-badge.svg\" alt=\"Open In Colab\"/></a>"
      ]
    },
    {
      "cell_type": "code",
      "execution_count": 1,
      "metadata": {
        "colab": {
          "base_uri": "https://localhost:8080/"
        },
        "id": "xnsVkmB8SqrZ",
        "outputId": "df4b0ceb-2462-4dd7-8ff9-7afa3c8ef58a"
      },
      "outputs": [
        {
          "output_type": "stream",
          "name": "stdout",
          "text": [
            "Ingrese la cantidad de Hombres: 3\n",
            "Ingrese la cantidad de Mujeres: 1\n",
            "Las personas invitadas son 4\n",
            "                y son 3 hombres y 1 mujeres.\n",
            "Los costos de los productos son: \n",
            "                Carne:345.825\n",
            "                Carbon:19.333333333333336\n",
            "                Refrescos:50.0\n",
            "                Complementos:100 y las personas que ponen complementos son: 4\n",
            "La cooperacion seria de: 128.78958333333333\n"
          ]
        }
      ],
      "source": [
        "import random\n",
        "\n",
        "class Convivio():\n",
        "    def __init__(self):\n",
        "        self.tInvitados = 0\n",
        "        self.hom = 0\n",
        "        self.muj = 0\n",
        "        self.costoArra = 160\n",
        "        self.costoBis = 190\n",
        "        self.costoCho = 25\n",
        "        self.costoPoll = 50\n",
        "        self.costoSalch = 30\n",
        "        self.totalCarne = 0\n",
        "        self.carneTotalPrecio = 0\n",
        "        self.cantCarbon = 0\n",
        "        self.precioCarbon = 20\n",
        "        self.totalRefrescos = 0\n",
        "        self.costRefrescos = 25\n",
        "        self.comple = 25\n",
        "        self.costComple = 0\n",
        "        self.n = 0\n",
        "\n",
        "    def invitados(self):\n",
        "        self.hom = int(input(\"Ingrese la cantidad de Hombres: \"))\n",
        "        self.muj = int(input(\"Ingrese la cantidad de Mujeres: \"))\n",
        "        self.tInvitados = self.hom + self.muj\n",
        "\n",
        "    def carne(self):\n",
        "        self.totalCarne = (self.hom * 0.8) + (self.muj * 0.5)\n",
        "        self.costoArra = self.costoArra * (self.totalCarne * 0.30)\n",
        "        self.costoBis = self.costoBis * (self.totalCarne * 0.30)\n",
        "        self.costoCho = self.costoCho * (self.totalCarne * 0.15)\n",
        "        self.costoPoll = self.costoPoll * (self.totalCarne * 0.15)\n",
        "        self.costoSalch = self.costoSalch * (self.totalCarne * 0.10)\n",
        "        self.carneTotalPrecio = self.costoArra + self.costoBis + self.costoCho + self.costoPoll + self.costoSalch\n",
        "\n",
        "    def carbon(self):\n",
        "        self.cantCarbon = self.totalCarne / 3\n",
        "        self.precioCarbon = self.precioCarbon * self.cantCarbon\n",
        "\n",
        "    def refrescos(self):\n",
        "        self.totalRefrescos = 0.500 * self.tInvitados\n",
        "        self.costRefrescos = self.costRefrescos * self.totalRefrescos\n",
        "\n",
        "    def complementos(self):\n",
        "        self.n = random.randint(1, self.tInvitados)\n",
        "        self.costComple = self.n * self.comple\n",
        "\n",
        "    def compras(self):\n",
        "        self.invitados()\n",
        "        self.carne()\n",
        "        self.carbon()\n",
        "        self.refrescos()\n",
        "        self.complementos()\n",
        "        print(f\"\"\"Las personas invitadas son {self.tInvitados}\n",
        "                y son {self.hom} hombres y {self.muj} mujeres.\"\"\")\n",
        "        print(f\"\"\"Los costos de los productos son:\n",
        "                Carne:{self.carneTotalPrecio}\n",
        "                Carbon:{self.precioCarbon}\n",
        "                Refrescos:{self.costRefrescos}\n",
        "                Complementos:{self.costComple} y las personas que ponen complementos son: {self.n}\"\"\")\n",
        "\n",
        "    def cooperacion(self):\n",
        "        self.cooperacion = self.carneTotalPrecio + self.precioCarbon + self.costRefrescos + self.costComple\n",
        "        print(f\"La cooperacion seria de: {self.cooperacion / self.tInvitados}\")\n",
        "\n",
        "carneAsada = Convivio()\n",
        "carneAsada.compras()\n",
        "carneAsada.cooperacion()"
      ]
    }
  ]
}