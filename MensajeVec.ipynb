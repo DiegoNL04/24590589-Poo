{
  "nbformat": 4,
  "nbformat_minor": 0,
  "metadata": {
    "colab": {
      "provenance": [],
      "authorship_tag": "ABX9TyPqG84Bv8+K/nJgPjAiAQY1",
      "include_colab_link": true
    },
    "kernelspec": {
      "name": "python3",
      "display_name": "Python 3"
    },
    "language_info": {
      "name": "python"
    }
  },
  "cells": [
    {
      "cell_type": "markdown",
      "metadata": {
        "id": "view-in-github",
        "colab_type": "text"
      },
      "source": [
        "<a href=\"https://colab.research.google.com/github/DiegoNL04/24590589-Poo/blob/main/MensajeVec.ipynb\" target=\"_parent\"><img src=\"https://colab.research.google.com/assets/colab-badge.svg\" alt=\"Open In Colab\"/></a>"
      ]
    },
    {
      "cell_type": "code",
      "execution_count": 1,
      "metadata": {
        "colab": {
          "base_uri": "https://localhost:8080/"
        },
        "id": "IiN7HcjZRnFR",
        "outputId": "1f510402-4400-42e9-e39b-6e840371b113"
      },
      "outputs": [
        {
          "output_type": "stream",
          "name": "stdout",
          "text": [
            "2\n",
            "l\n"
          ]
        }
      ],
      "source": [
        "import random\n",
        "\n",
        "x=\"Hola_Mundo\"\n",
        "x1=len(x)\n",
        "y=random.randint(0,x1-1)\n",
        "print(y)\n",
        "print(x[y])"
      ]
    }
  ]
}