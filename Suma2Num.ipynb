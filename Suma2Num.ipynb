{
  "nbformat": 4,
  "nbformat_minor": 0,
  "metadata": {
    "colab": {
      "provenance": [],
      "authorship_tag": "ABX9TyM/9v8/qG1MvYzf0hEUOdl1",
      "include_colab_link": true
    },
    "kernelspec": {
      "name": "python3",
      "display_name": "Python 3"
    },
    "language_info": {
      "name": "python"
    }
  },
  "cells": [
    {
      "cell_type": "markdown",
      "metadata": {
        "id": "view-in-github",
        "colab_type": "text"
      },
      "source": [
        "<a href=\"https://colab.research.google.com/github/DiegoNL04/24590589-Poo/blob/main/Suma2Num.ipynb\" target=\"_parent\"><img src=\"https://colab.research.google.com/assets/colab-badge.svg\" alt=\"Open In Colab\"/></a>"
      ]
    },
    {
      "cell_type": "code",
      "execution_count": 8,
      "metadata": {
        "colab": {
          "base_uri": "https://localhost:8080/"
        },
        "id": "3oMTtQ0IIu_B",
        "outputId": "7366e8b9-9be9-416b-c725-0e68cc259e99"
      },
      "outputs": [
        {
          "output_type": "stream",
          "name": "stdout",
          "text": [
            "Introduce el primer número: 2\n",
            "Introduce el segundo número: 2\n",
            "La suma de 2.0 y 2.0 es: 4.0\n"
          ]
        }
      ],
      "source": [
        "class SumaNumeros:\n",
        "    def __init__(self):\n",
        "        self.n1 = 0\n",
        "        self.n2 = 0\n",
        "        self.resultado = 0\n",
        "\n",
        "    def pedir_numeros(self):\n",
        "        self.n1 = float(input(\"Introduce el primer número: \"))\n",
        "        self.n2 = float(input(\"Introduce el segundo número: \"))\n",
        "\n",
        "    def sumar(self):\n",
        "        self.resultado = self.n1 + self.n2\n",
        "\n",
        "    def mostrar_resultado(self):\n",
        "        print(f\"La suma de {self.n1} y {self.n2} es: {self.resultado}\")\n",
        "\n",
        "mi_suma = SumaNumeros()\n",
        "mi_suma.pedir_numeros()\n",
        "mi_suma.sumar()\n",
        "mi_suma.mostrar_resultado()"
      ]
    }
  ]
}