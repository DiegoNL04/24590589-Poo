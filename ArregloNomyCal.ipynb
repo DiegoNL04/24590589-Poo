{
  "nbformat": 4,
  "nbformat_minor": 0,
  "metadata": {
    "colab": {
      "provenance": [],
      "authorship_tag": "ABX9TyP7ZuqWZ5qugJr24gGHapyL",
      "include_colab_link": true
    },
    "kernelspec": {
      "name": "python3",
      "display_name": "Python 3"
    },
    "language_info": {
      "name": "python"
    }
  },
  "cells": [
    {
      "cell_type": "markdown",
      "metadata": {
        "id": "view-in-github",
        "colab_type": "text"
      },
      "source": [
        "<a href=\"https://colab.research.google.com/github/DiegoNL04/24590589-Poo/blob/main/ArregloNomyCal.ipynb\" target=\"_parent\"><img src=\"https://colab.research.google.com/assets/colab-badge.svg\" alt=\"Open In Colab\"/></a>"
      ]
    },
    {
      "cell_type": "code",
      "execution_count": 1,
      "metadata": {
        "colab": {
          "base_uri": "https://localhost:8080/"
        },
        "id": "EuqyMrReTYoL",
        "outputId": "c07d9ed6-1088-4017-83aa-1fe2eb1b7b57"
      },
      "outputs": [
        {
          "output_type": "stream",
          "name": "stdout",
          "text": [
            "Ingrese los datos de la persona\n",
            "Ingresa el nombre:Diego Narvaez Lara\n",
            "Ingresa la calificación: 24590589\n",
            "¿Desea ingresar otro dato? 0=si, 1=no: 0\n",
            "Ingresa el nombre:Jennifer Patiño Bautista\n",
            "Ingresa la calificación: 24590579\n",
            "¿Desea ingresar otro dato? 0=si, 1=no: 1\n",
            "Nombre: Diego Narvaez Lara, Identificador: 24590589\n",
            "Nombre: Jennifer Patiño Bautista, Identificador: 24590579\n"
          ]
        }
      ],
      "source": [
        "class Listas:\n",
        "    def __init__(self):\n",
        "        self.nombres=[]\n",
        "        self.calificaciones=[]\n",
        "        self.tamaño=0\n",
        "        self.n=0\n",
        "    def msj(self):\n",
        "        print(\"Ingrese los datos de la persona\")\n",
        "    def ingresar(self):\n",
        "        while self.n==0:\n",
        "            nombre=input(\"Ingresa el nombre:\")\n",
        "            identificacion=input(\"Ingresa la calificación: \")\n",
        "            self.nombres.append(nombre)\n",
        "            self.calificaciones.append(identificacion)\n",
        "            self.tamaño+=1\n",
        "            self.n=int(input(\"¿Desea ingresar otro dato? 0=si, 1=no: \"))\n",
        "    def msj2(self):\n",
        "        print(\"\\nMostrando los datos de las personas...\")\n",
        "    def mostrar(self):\n",
        "        for i in range (self.tamaño):\n",
        "            print(f\"Nombre: {self.nombres[i]}, Identificador: {self.calificaciones[i]}\")\n",
        "\n",
        "x=Listas()\n",
        "x.msj()\n",
        "x.ingresar()\n",
        "x.mostrar()"
      ]
    }
  ]
}