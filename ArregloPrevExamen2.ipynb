{
  "nbformat": 4,
  "nbformat_minor": 0,
  "metadata": {
    "colab": {
      "provenance": [],
      "authorship_tag": "ABX9TyPbGP5XWGgr/072AAvWstVs",
      "include_colab_link": true
    },
    "kernelspec": {
      "name": "python3",
      "display_name": "Python 3"
    },
    "language_info": {
      "name": "python"
    }
  },
  "cells": [
    {
      "cell_type": "markdown",
      "metadata": {
        "id": "view-in-github",
        "colab_type": "text"
      },
      "source": [
        "<a href=\"https://colab.research.google.com/github/DiegoNL04/24590589-Poo/blob/main/ArregloPrevExamen2.ipynb\" target=\"_parent\"><img src=\"https://colab.research.google.com/assets/colab-badge.svg\" alt=\"Open In Colab\"/></a>"
      ]
    },
    {
      "cell_type": "code",
      "execution_count": 2,
      "metadata": {
        "colab": {
          "base_uri": "https://localhost:8080/"
        },
        "id": "_ghHnoCi9OPw",
        "outputId": "ec181fa8-0ed5-4757-a86d-4a03fa0a87e6"
      },
      "outputs": [
        {
          "output_type": "stream",
          "name": "stdout",
          "text": [
            "Ingrese la cantidad a cambiar: 2300\n",
            "Resultado:\n",
            "4 billete(s) de $500\n",
            "3 billete(s) de $100\n"
          ]
        }
      ],
      "source": [
        "class CajeroAutomatico:\n",
        "    def __init__(self):\n",
        "        self.billetes = [500, 100, 50]\n",
        "\n",
        "    def calcular_cambio(self, cantidad):\n",
        "        if cantidad % 50 != 0:\n",
        "            return \"La cantidad debe ser múltiplo de 50\"\n",
        "\n",
        "        resultado = []\n",
        "        for billete in self.billetes:\n",
        "            num_billetes = cantidad // billete\n",
        "            if num_billetes > 0:\n",
        "                resultado.append([billete, num_billetes])\n",
        "                cantidad %= billete\n",
        "        return resultado\n",
        "\n",
        "\n",
        "cajero = CajeroAutomatico()\n",
        "cantidad = int(input(\"Ingrese la cantidad a cambiar: \"))\n",
        "cambio = cajero.calcular_cambio(cantidad)\n",
        "\n",
        "if isinstance(cambio, str):\n",
        "    print(cambio)\n",
        "else:\n",
        "    print(\"Resultado:\")\n",
        "    for billete, cantidad in cambio:\n",
        "        print(f\"{cantidad} billete(s) de ${billete}\")"
      ]
    }
  ]
}