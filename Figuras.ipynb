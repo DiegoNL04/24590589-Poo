{
  "nbformat": 4,
  "nbformat_minor": 0,
  "metadata": {
    "colab": {
      "provenance": [],
      "authorship_tag": "ABX9TyPu4zTeOr2Yh8qvV7w3r5Uc",
      "include_colab_link": true
    },
    "kernelspec": {
      "name": "python3",
      "display_name": "Python 3"
    },
    "language_info": {
      "name": "python"
    }
  },
  "cells": [
    {
      "cell_type": "markdown",
      "metadata": {
        "id": "view-in-github",
        "colab_type": "text"
      },
      "source": [
        "<a href=\"https://colab.research.google.com/github/DiegoNL04/24590589-Poo/blob/main/Figuras.ipynb\" target=\"_parent\"><img src=\"https://colab.research.google.com/assets/colab-badge.svg\" alt=\"Open In Colab\"/></a>"
      ]
    },
    {
      "cell_type": "code",
      "execution_count": 1,
      "metadata": {
        "colab": {
          "base_uri": "https://localhost:8080/"
        },
        "id": "12WHCvt5SaIw",
        "outputId": "d3abcfa6-8c20-41e2-867d-0eed8ec99bc2"
      },
      "outputs": [
        {
          "output_type": "stream",
          "name": "stdout",
          "text": [
            "Seleccione una figura para calcular su área:\")\n",
            "        1. Círculo\n",
            "        2. Trapecio\n",
            "        3. Rectangulo\n",
            "Ingresa una opciòn1\n",
            "Dame el valor del radio3.56\n",
            "El area del circulo es 39.81538176\n"
          ]
        }
      ],
      "source": [
        "class Figuras:\n",
        "    def _init_(self):\n",
        "        self.a = 0\n",
        "        self.b = 0\n",
        "        self.c = 0\n",
        "\n",
        "    def operaciones(self):\n",
        "        print(\"\"\"Seleccione una figura para calcular su área:\")\n",
        "        1. Círculo\n",
        "        2. Trapecio\n",
        "        3. Rectangulo\"\"\")\n",
        "\n",
        "        r = int(input(\"Ingresa una opciòn\"))\n",
        "        return (r)\n",
        "\n",
        "    def circulo (self, r):\n",
        "        areaCirculo = 3.1416 * r**2\n",
        "        return (areaCirculo)\n",
        "\n",
        "    def trapecio (self, b1, b2, h):\n",
        "        areaTrapecio = (b1+b2 * h) / 2\n",
        "        return (areaTrapecio)\n",
        "    def rectangulo (self, b, h):\n",
        "        areaRectangulo = b * h\n",
        "        return (areaRectangulo)\n",
        "\n",
        "\n",
        "obj = Figuras ()\n",
        "s = obj.operaciones()\n",
        "\n",
        "if s == 1:\n",
        "    obj.a = float(input(\"Dame el valor del radio\"))\n",
        "    resultado = obj.circulo(obj.a)\n",
        "    print (f\"El area del circulo es {resultado}\")\n",
        "\n",
        "elif s == 2:\n",
        "    obj.a = float(input(\"Dame el valor de la base menor\"))\n",
        "    obj.b = float(input(\"Dame el valor de la base mayor\"))\n",
        "    obj.c = float(input(\"Dame el valor de la h\"))\n",
        "    resultado = obj.trapecio(obj.a, obj.c, obj.b)\n",
        "    print(f\"El area del trapecio es: {resultado} \")\n",
        "\n",
        "\n",
        "elif s == 3:\n",
        "    obj.a = float(input(\"Dame el valor de la altura\"))\n",
        "    obj.b  = float(input(\"Dame el valor de la base\"))\n",
        "    resultado = obj.rectangulo(obj.a, obj.b)\n",
        "    print(f\"El area del rectangulo es {resultado}\")"
      ]
    }
  ]
}