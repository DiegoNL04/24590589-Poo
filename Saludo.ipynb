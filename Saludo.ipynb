{
  "nbformat": 4,
  "nbformat_minor": 0,
  "metadata": {
    "colab": {
      "provenance": [],
      "authorship_tag": "ABX9TyNzQMiHKonUGQg30UW+tVbj",
      "include_colab_link": true
    },
    "kernelspec": {
      "name": "python3",
      "display_name": "Python 3"
    },
    "language_info": {
      "name": "python"
    }
  },
  "cells": [
    {
      "cell_type": "markdown",
      "metadata": {
        "id": "view-in-github",
        "colab_type": "text"
      },
      "source": [
        "<a href=\"https://colab.research.google.com/github/DiegoNL04/24590589-Poo/blob/main/Saludo.ipynb\" target=\"_parent\"><img src=\"https://colab.research.google.com/assets/colab-badge.svg\" alt=\"Open In Colab\"/></a>"
      ]
    },
    {
      "cell_type": "code",
      "execution_count": 3,
      "metadata": {
        "colab": {
          "base_uri": "https://localhost:8080/"
        },
        "id": "6dfNLbZeEcKR",
        "outputId": "18c2d9a4-79d9-4ce4-a03e-61722a1feb38"
      },
      "outputs": [
        {
          "output_type": "stream",
          "name": "stdout",
          "text": [
            "¿Cómo te llamas? Diego\n",
            "Hola Diego, ¿cómo estás?\n"
          ]
        }
      ],
      "source": [
        "class Saludo:\n",
        "    def __init__(self,nombre=None):\n",
        "        self.nombre = nombre\n",
        "\n",
        "    def saluda(self):\n",
        "        self.nombre = input(\"¿Cómo te llamas? \")\n",
        "        print(\"Hola \" + self.nombre + \", ¿cómo estás?\")\n",
        "\n",
        "x=Saludo()\n",
        "x.saluda()"
      ]
    }
  ]
}