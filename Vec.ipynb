{
  "nbformat": 4,
  "nbformat_minor": 0,
  "metadata": {
    "colab": {
      "provenance": [],
      "authorship_tag": "ABX9TyODfzcqqDPOyypYOHFF2t6c",
      "include_colab_link": true
    },
    "kernelspec": {
      "name": "python3",
      "display_name": "Python 3"
    },
    "language_info": {
      "name": "python"
    }
  },
  "cells": [
    {
      "cell_type": "markdown",
      "metadata": {
        "id": "view-in-github",
        "colab_type": "text"
      },
      "source": [
        "<a href=\"https://colab.research.google.com/github/DiegoNL04/24590589-Poo/blob/main/Vec.ipynb\" target=\"_parent\"><img src=\"https://colab.research.google.com/assets/colab-badge.svg\" alt=\"Open In Colab\"/></a>"
      ]
    },
    {
      "cell_type": "code",
      "execution_count": 2,
      "metadata": {
        "id": "PMgAUMtmDldd"
      },
      "outputs": [],
      "source": [
        "class HolaMundo:\n",
        "    def __init__(self):\n",
        "        self.x=0\n",
        "        self.y=0\n",
        "    def a(self):\n",
        "        r=\"hola\"\n",
        "        return (r)\n",
        "    def b(self):\n",
        "        n=input(\"Ingresa el nombre: \")\n",
        "        return (n)\n",
        "    def c(self,r,n):\n",
        "        print(f\"{r} , {n}, ¿Como estas? \")"
      ]
    }
  ]
}