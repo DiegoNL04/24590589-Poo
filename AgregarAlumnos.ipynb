{
  "nbformat": 4,
  "nbformat_minor": 0,
  "metadata": {
    "colab": {
      "provenance": [],
      "authorship_tag": "ABX9TyPK+EgTbOM6+umAguvGPI5m",
      "include_colab_link": true
    },
    "kernelspec": {
      "name": "python3",
      "display_name": "Python 3"
    },
    "language_info": {
      "name": "python"
    }
  },
  "cells": [
    {
      "cell_type": "markdown",
      "metadata": {
        "id": "view-in-github",
        "colab_type": "text"
      },
      "source": [
        "<a href=\"https://colab.research.google.com/github/DiegoNL04/24590589-Poo/blob/main/AgregarAlumnos.ipynb\" target=\"_parent\"><img src=\"https://colab.research.google.com/assets/colab-badge.svg\" alt=\"Open In Colab\"/></a>"
      ]
    },
    {
      "cell_type": "code",
      "execution_count": 3,
      "metadata": {
        "colab": {
          "base_uri": "https://localhost:8080/"
        },
        "id": "JDrmC0Bk71JH",
        "outputId": "1ad3a8fe-6a8d-4d3c-cd00-bdf97b22d67f"
      },
      "outputs": [
        {
          "output_type": "stream",
          "name": "stdout",
          "text": [
            "Ingresa el numero de control24590589\n",
            "Ingresa el nombre del alumnoDiego\n",
            "Ingrese la calificacion80\n",
            "Quieres agregaar otro alumno? s/nn\n",
            "[]\n",
            "[[24590589, 'Diego', 80]]\n"
          ]
        }
      ],
      "source": [
        "n=[]\n",
        "alumnos=[]\n",
        "op=\"s\"\n",
        "#El while es para repetir el proceso al momento de generar la pregunta\n",
        "while op==\"S\" or op==\"s\":\n",
        "  for i in range(1,4):\n",
        "   if i== 1:\n",
        "    n.append(int(input(\"Ingresa el numero de control\")))\n",
        "   elif i== 2:\n",
        "    n.append(input(\"Ingresa el nombre del alumno\"))\n",
        "   else:\n",
        "    n.append(int(input(\"Ingrese la calificacion\")))\n",
        "  alumnos.append(n)\n",
        "  n=[]\n",
        "  op=input(\"Quieres agregaar otro alumno? s/n\")\n",
        "\n",
        "\n",
        "\n",
        "\n",
        "\n",
        "\n",
        "#principal\n",
        "print(n)\n",
        "print(alumnos)"
      ]
    },
    {
      "cell_type": "code",
      "source": [
        "class alumnos:\n",
        "  def __init__(self):\n",
        "    r=0\n",
        "    self.alumnos=[]\n",
        "\n",
        "  def datos(self):\n",
        "    n=[]\n",
        "    n.append(int(input(\"Ingresa el numero de control:\")))\n",
        "    n.append(input(\"Ingresa el nombre del alumno:\"))\n",
        "    n.append(int(input(\"Ingresa la calificacion:\")))\n",
        "    return(n)\n",
        "\n",
        "  def agregaAlumnos(self,n):\n",
        "    self.alumnos.append(n)\n",
        "    return(self.alumnos)\n",
        "\n",
        "  def capturaAlumnos(self,n):\n",
        "    op=\"s\"\n",
        "    while op==\"s\" or op==\"S\":\n",
        "      n=self.datos()\n",
        "      self.agregaAlumnos(n)\n",
        "      op=input(\"Quieres agregar otro alumno? s/n:\")\n",
        "\n",
        "  def imprimir(self):\n",
        "    print(self.alumnos)\n",
        "\n",
        "obj=alumnos()\n",
        "obj.capturaAlumnos(n)\n",
        "obj.imprimir()\n",
        "\n",
        "\n",
        "\n",
        "\n"
      ],
      "metadata": {
        "colab": {
          "base_uri": "https://localhost:8080/"
        },
        "id": "DVhppDoCAcRt",
        "outputId": "0306804d-683c-4c0d-e5a8-ccd17c9f883a"
      },
      "execution_count": 4,
      "outputs": [
        {
          "output_type": "stream",
          "name": "stdout",
          "text": [
            "Ingresa el numero de control:24590589\n",
            "Ingresa el nombre del alumno:Diego\n",
            "Ingresa la calificacion:80\n",
            "Quieres agregar otro alumno? s/n:s\n",
            "Ingresa el numero de control:24590589\n",
            "Ingresa el nombre del alumno:Jenny\n",
            "Ingresa la calificacion:80\n",
            "Quieres agregar otro alumno? s/n:n\n",
            "[[24590589, 'Diego', 80], [24590589, 'Jenny', 80]]\n"
          ]
        }
      ]
    }
  ]
}