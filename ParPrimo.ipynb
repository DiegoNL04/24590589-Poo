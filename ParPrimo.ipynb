{
  "nbformat": 4,
  "nbformat_minor": 0,
  "metadata": {
    "colab": {
      "provenance": [],
      "authorship_tag": "ABX9TyN5djJaLj9avqrPJrRSBC31",
      "include_colab_link": true
    },
    "kernelspec": {
      "name": "python3",
      "display_name": "Python 3"
    },
    "language_info": {
      "name": "python"
    }
  },
  "cells": [
    {
      "cell_type": "markdown",
      "metadata": {
        "id": "view-in-github",
        "colab_type": "text"
      },
      "source": [
        "<a href=\"https://colab.research.google.com/github/DiegoNL04/24590589-Poo/blob/main/ParPrimo.ipynb\" target=\"_parent\"><img src=\"https://colab.research.google.com/assets/colab-badge.svg\" alt=\"Open In Colab\"/></a>"
      ]
    },
    {
      "cell_type": "code",
      "execution_count": 1,
      "metadata": {
        "colab": {
          "base_uri": "https://localhost:8080/"
        },
        "id": "ulG91gRgRGe2",
        "outputId": "256a08f6-f9c9-438d-d187-214c2dcf7b31"
      },
      "outputs": [
        {
          "output_type": "stream",
          "name": "stdout",
          "text": [
            "Ingrese el numero: 2\n",
            "El numero 2 es primo\n",
            "Y es par\n"
          ]
        }
      ],
      "source": [
        "class NumParPrimoImpar():\n",
        "    def __init__(self):\n",
        "        self.num=0\n",
        "    def pedirNums(self):\n",
        "        self.num=int(input(\"Ingrese el numero: \"))\n",
        "    def numeroPar (self):\n",
        "        return self.num%2==0\n",
        "    def numeroPrimo(self):\n",
        "            for i in range(2, int(self.num**0.5) + 1):\n",
        "                if self.num % i == 0:\n",
        "                    print(f\"El numero {self.num} no es primo\")\n",
        "                    return\n",
        "            print(f\"El numero {self.num} es primo\")\n",
        "    def imprimirRes(self):\n",
        "        if self.numeroPar():\n",
        "            print(\"Y es par\")\n",
        "        else:\n",
        "            print(\"Y es impar\")\n",
        "\n",
        "par=NumParPrimoImpar()\n",
        "par.pedirNums()\n",
        "par.numeroPrimo()\n",
        "par.numeroPar()\n",
        "par.imprimirRes()"
      ]
    }
  ]
}