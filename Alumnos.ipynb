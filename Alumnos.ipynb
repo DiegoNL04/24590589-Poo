{
  "nbformat": 4,
  "nbformat_minor": 0,
  "metadata": {
    "colab": {
      "provenance": [],
      "authorship_tag": "ABX9TyM7wjLhc49tFa/u2L/UZdY+",
      "include_colab_link": true
    },
    "kernelspec": {
      "name": "python3",
      "display_name": "Python 3"
    },
    "language_info": {
      "name": "python"
    }
  },
  "cells": [
    {
      "cell_type": "markdown",
      "metadata": {
        "id": "view-in-github",
        "colab_type": "text"
      },
      "source": [
        "<a href=\"https://colab.research.google.com/github/DiegoNL04/24590589-Poo/blob/main/Alumnos.ipynb\" target=\"_parent\"><img src=\"https://colab.research.google.com/assets/colab-badge.svg\" alt=\"Open In Colab\"/></a>"
      ]
    },
    {
      "cell_type": "code",
      "execution_count": 2,
      "metadata": {
        "colab": {
          "base_uri": "https://localhost:8080/"
        },
        "id": "nKpB5bc2T70v",
        "outputId": "7a0a56ce-d28a-45ba-fc25-085efe6ac2ff"
      },
      "outputs": [
        {
          "output_type": "stream",
          "name": "stdout",
          "text": [
            "Ingrese los datos de la persona\n",
            "Ingrese el nombre del alumno: Diego\n",
            "Ingresa la calificación del alumno: 80\n",
            "Ingresa la segunda calificación del alumno: 80\n",
            "Ingresa la tercera calificación del alumno: 80\n",
            "Desea ingresar otro dato? S/N: N\n",
            "\n",
            "Mostrando las calificaciones....\n",
            "El alumno: Diego, obtuvo un promedio de: 80.00\n",
            "MUCHAS FELICIDADES, HAS APROBADO\n"
          ]
        }
      ],
      "source": [
        "class Alumnos:\n",
        "    def __init__(self):\n",
        "        self.calificacion1 = []\n",
        "        self.calificacion2 = []\n",
        "        self.calificacion3 = []\n",
        "        self.promedio = []\n",
        "        self.nombre = []\n",
        "\n",
        "    def msj(self):\n",
        "        print(\"Ingrese los datos de la persona\")\n",
        "\n",
        "    def ingresarDatos(self):\n",
        "        opc = \"S\"\n",
        "        while opc == \"S\":\n",
        "            self.nombre.append(input(\"Ingrese el nombre del alumno: \"))\n",
        "            self.calificacion1.append(int(input(\"Ingresa la calificación del alumno: \")))\n",
        "            self.calificacion2.append(int(input(\"Ingresa la segunda calificación del alumno: \")))\n",
        "            self.calificacion3.append(int(input(\"Ingresa la tercera calificación del alumno: \")))\n",
        "\n",
        "            promedio = (self.calificacion1[-1] + self.calificacion2[-1] + self.calificacion3[-1]) / 3\n",
        "            self.promedio.append(promedio)\n",
        "\n",
        "            opc = input(\"Desea ingresar otro dato? S/N: \").upper()\n",
        "\n",
        "    def mostrarMensaje(self):\n",
        "        print(\"\\nMostrando las calificaciones....\")\n",
        "        for i in range(len(self.nombre)):\n",
        "            p = self.promedio[i]\n",
        "            if p > 9:\n",
        "                print(f\"El alumno: {self.nombre[i]}, obtuvo un promedio de: {p:.2f}\")\n",
        "                print(\"MUCHAS FELICIDADES, HAS APROBADO\")\n",
        "            elif 7 < p <= 9:\n",
        "                print(f\"El alumno: {self.nombre[i]}, obtuvo un promedio de: {p:.2f}\")\n",
        "                print(\"Aprobaste, pero sigue mejorando\")\n",
        "            else:\n",
        "                print(f\"El alumno: {self.nombre[i]}, obtuvo un promedio de: {p:.2f}\")\n",
        "                print(\"R E P R O B A D O\")\n",
        "\n",
        "obj = Alumnos()\n",
        "obj.msj()\n",
        "obj.ingresarDatos()\n",
        "obj.mostrarMensaje()"
      ]
    }
  ]
}