{
  "nbformat": 4,
  "nbformat_minor": 0,
  "metadata": {
    "colab": {
      "provenance": [],
      "authorship_tag": "ABX9TyMJzNhnrGDCtm5lX0fyP1z1",
      "include_colab_link": true
    },
    "kernelspec": {
      "name": "python3",
      "display_name": "Python 3"
    },
    "language_info": {
      "name": "python"
    }
  },
  "cells": [
    {
      "cell_type": "markdown",
      "metadata": {
        "id": "view-in-github",
        "colab_type": "text"
      },
      "source": [
        "<a href=\"https://colab.research.google.com/github/DiegoNL04/24590589-Poo/blob/main/ArreglosPrevExamen.ipynb\" target=\"_parent\"><img src=\"https://colab.research.google.com/assets/colab-badge.svg\" alt=\"Open In Colab\"/></a>"
      ]
    },
    {
      "cell_type": "code",
      "execution_count": 1,
      "metadata": {
        "colab": {
          "base_uri": "https://localhost:8080/"
        },
        "id": "LBSP_zDg8n6N",
        "outputId": "686526f9-6d3f-49c1-a035-c4c04d2bb84f"
      },
      "outputs": [
        {
          "output_type": "stream",
          "name": "stdout",
          "text": [
            "5 6 9 67 \n",
            "3 23 89 44 \n",
            "45 12 7 56 \n",
            "44 45 54 34 \n",
            "35 67 7 6 \n",
            "43 63 8 4 \n",
            "5 52 4 6 \n",
            "4 65 5 4 \n",
            "40 73 16 73 \n",
            "46 86 97 48 \n",
            "50 64 11 62 \n",
            "48 110 59 38 \n",
            "-30 -61 2 61 \n",
            "-40 -40 81 40 \n",
            "40 -40 3 50 \n",
            "40 -20 49 30 \n"
          ]
        }
      ],
      "source": [
        "a=[[5,6,9,67],[3,23,89,44],[45,12,7,56],[44,45,54,34]]\n",
        "b=[[35,67,7,6],[43,63,8,4],[5,52,4,6],[4,65,5,4]]\n",
        "c=[[0,0,0,0],[0,0,0,0],[0,0,0,0],[0,0,0,0]]\n",
        "d=[[0,0,0,0],[0,0,0,0],[0,0,0,0],[0,0,0,0]]\n",
        "for i in range(len(a)):\n",
        "    for j in range(len(a[i])):\n",
        "        r=a[i][j]+b[i][j]\n",
        "        c[i][j]=r\n",
        "        r=a[i][j]-b[i][j]\n",
        "        d[i][j]=r\n",
        "\n",
        "for i in range(len(a)):\n",
        "    for j in range(len(a[i])):\n",
        "        print(a[i][j], end=\" \")\n",
        "    print(\"\")\n",
        "\n",
        "\n",
        "for i in range(len(b)):\n",
        "    for j in range(len(b[i])):\n",
        "        print(b[i][j], end=\" \")\n",
        "    print(\"\")\n",
        "\n",
        "for i in range(len(c)):\n",
        "    for j in range(len(c[i])):\n",
        "        print(c[i][j], end=\" \")\n",
        "    print(\"\")\n",
        "\n",
        "for i in range(len(d)):\n",
        "    for j in range(len(d[i])):\n",
        "        print(d[i][j], end=\" \")\n",
        "    print(\"\")"
      ]
    }
  ]
}