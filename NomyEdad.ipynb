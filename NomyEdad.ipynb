{
  "nbformat": 4,
  "nbformat_minor": 0,
  "metadata": {
    "colab": {
      "provenance": [],
      "authorship_tag": "ABX9TyMJypilwikqg4YR7QLVTOPt",
      "include_colab_link": true
    },
    "kernelspec": {
      "name": "python3",
      "display_name": "Python 3"
    },
    "language_info": {
      "name": "python"
    }
  },
  "cells": [
    {
      "cell_type": "markdown",
      "metadata": {
        "id": "view-in-github",
        "colab_type": "text"
      },
      "source": [
        "<a href=\"https://colab.research.google.com/github/DiegoNL04/24590589-Poo/blob/main/NomyEdad.ipynb\" target=\"_parent\"><img src=\"https://colab.research.google.com/assets/colab-badge.svg\" alt=\"Open In Colab\"/></a>"
      ]
    },
    {
      "cell_type": "code",
      "execution_count": 1,
      "metadata": {
        "colab": {
          "base_uri": "https://localhost:8080/"
        },
        "id": "CHujcMa4R44M",
        "outputId": "64d42663-e402-490c-bcf1-9c105395661a"
      },
      "outputs": [
        {
          "output_type": "stream",
          "name": "stdout",
          "text": [
            "5\n",
            "10\n",
            "5\n",
            "No es par\n",
            "2\n",
            "30\n",
            "40\n",
            "No es par\n",
            "No es par\n",
            "No es par\n",
            "10\n"
          ]
        }
      ],
      "source": [
        "mi_lista = ['Juan', 'Pedro', 'Laura', 'Carmen', 'Susana']\n",
        "print(len(mi_lista))\n",
        "x=\"Hola Mundo\"\n",
        "print (len(x)) #\n",
        "y=list(['Juan', 'Pedro', 'Laura', 'Carmen', 'Susana'])\n",
        "print(len(y))\n",
        "edades=[1,2,30,40,23,21,19,10]\n",
        "for i in range(0,len(edades)):\n",
        "    print(edades[i] if edades[i]%2==0 else \"No es par\")"
      ]
    }
  ]
}