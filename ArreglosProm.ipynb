{
  "nbformat": 4,
  "nbformat_minor": 0,
  "metadata": {
    "colab": {
      "provenance": [],
      "authorship_tag": "ABX9TyOQTwpIZ29LkoY9ks4xq0Rt",
      "include_colab_link": true
    },
    "kernelspec": {
      "name": "python3",
      "display_name": "Python 3"
    },
    "language_info": {
      "name": "python"
    }
  },
  "cells": [
    {
      "cell_type": "markdown",
      "metadata": {
        "id": "view-in-github",
        "colab_type": "text"
      },
      "source": [
        "<a href=\"https://colab.research.google.com/github/DiegoNL04/24590589-Poo/blob/main/ArreglosProm.ipynb\" target=\"_parent\"><img src=\"https://colab.research.google.com/assets/colab-badge.svg\" alt=\"Open In Colab\"/></a>"
      ]
    },
    {
      "cell_type": "code",
      "execution_count": 3,
      "metadata": {
        "id": "T3-B01XUUbiL"
      },
      "outputs": [],
      "source": [
        "nombres = [\"Juan\", \"Karla\", \"Mario\", \"Valeria\", \"Artuto\"]\n",
        "calificacion1=[10,8,9,8,7]\n",
        "calificacion2=[6,9,10,9,9]\n",
        "calificacion3=[9,10,8,10.10]\n",
        "\n",
        "class AlumnosPromedio:\n",
        "    def __init__ (self):\n",
        "        self.nombres=nombres\n",
        "        self.calificacion1=calificacion1\n",
        "        self.calificacion2=calificacion2\n",
        "        self.calificacion3=calificacion3\n",
        "        self.promedio=[]\n",
        "    def promedio(self):\n",
        "        for i in range(len(self.nombres)):\n",
        "            p =(self.calificacion1[i]+self.calificacion2[i]+self.calificacion3[i])/3\n",
        "        self.promedio.append(p[i])\n",
        "    def mostrarMensaje(self):\n",
        "        print(\"\\nMostrando las calificaciones....\")\n",
        "        for i in range(len(self.nombres)):\n",
        "            p = self.promedio[i]\n",
        "            if p > 9:\n",
        "                print(f\"El alumno: {self.nombre[i]}, obtuvo un promedio de: {p:.2f}\")\n",
        "                print(\"MUCHAS FELICIDADES, HAS APROBADO\")\n",
        "            elif 7 < p <= 9:\n",
        "                print(f\"El alumno: {self.nombre[i]}, obtuvo un promedio de: {p:.2f}\")\n",
        "                print(\"Aprobaste, pero sigue mejorando\")\n",
        "            else:\n",
        "                print(f\"El alumno: {self.nombre[i]}, obtuvo un promedio de: {p:.2f}\")\n",
        "                print(\"R E P R O B A D O\")\n",
        "    def califMax(self): #Calificacion maxima por promedio\n",
        "        calmax=max(self.promedio)\n",
        "        print(f\"La calificacion mas alta en promedio es: {calmax} y es de:\")"
      ]
    }
  ]
}